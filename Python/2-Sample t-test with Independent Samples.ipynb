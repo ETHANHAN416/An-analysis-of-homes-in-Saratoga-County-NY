{
 "cells": [
  {
   "cell_type": "code",
   "execution_count": 1,
   "metadata": {},
   "outputs": [],
   "source": [
    "import pandas as pd\n",
    "import numpy as np\n",
    "import matplotlib.pyplot as plt\n",
    "import statsmodels.stats.api as sms\n",
    "from scipy import stats\n",
    "\n",
    "res = pd.read_table(\"C:/Users/416et/Desktop/real-estate-sample-1200.txt\")"
   ]
  },
  {
   "cell_type": "markdown",
   "metadata": {},
   "source": [
    "Test Hypotheses\n",
    "H0: μf= μnf      vs     Ha: μf> μnf\n",
    "\n",
    "Independent Variable: Presence of Fireplaces (two independent groups: houses with at least one fireplace and without fireplace)\n",
    "\n",
    "Dependent Variable: Sale Price\n",
    "\n"
   ]
  },
  {
   "cell_type": "code",
   "execution_count": 2,
   "metadata": {},
   "outputs": [
    {
     "name": "stdout",
     "output_type": "stream",
     "text": [
      "(1200, 13)\n"
     ]
    },
    {
     "data": {
      "text/html": [
       "<div>\n",
       "<style scoped>\n",
       "    .dataframe tbody tr th:only-of-type {\n",
       "        vertical-align: middle;\n",
       "    }\n",
       "\n",
       "    .dataframe tbody tr th {\n",
       "        vertical-align: top;\n",
       "    }\n",
       "\n",
       "    .dataframe thead th {\n",
       "        text-align: right;\n",
       "    }\n",
       "</style>\n",
       "<table border=\"1\" class=\"dataframe\">\n",
       "  <thead>\n",
       "    <tr style=\"text-align: right;\">\n",
       "      <th></th>\n",
       "      <th>Sale Price</th>\n",
       "      <th>Lot Size</th>\n",
       "      <th>Waterfront</th>\n",
       "      <th>Age</th>\n",
       "      <th>Central Air</th>\n",
       "      <th>Fuel Type</th>\n",
       "      <th>Condition</th>\n",
       "      <th>Living Area</th>\n",
       "      <th>Pct College</th>\n",
       "      <th>Full Baths</th>\n",
       "      <th>Half Baths</th>\n",
       "      <th>Bedrooms</th>\n",
       "      <th>Fireplaces</th>\n",
       "    </tr>\n",
       "  </thead>\n",
       "  <tbody>\n",
       "    <tr>\n",
       "      <th>0</th>\n",
       "      <td>320000</td>\n",
       "      <td>0.61</td>\n",
       "      <td>No</td>\n",
       "      <td>6</td>\n",
       "      <td>Yes</td>\n",
       "      <td>Oil</td>\n",
       "      <td>3</td>\n",
       "      <td>2492</td>\n",
       "      <td>64</td>\n",
       "      <td>2</td>\n",
       "      <td>1</td>\n",
       "      <td>4</td>\n",
       "      <td>1</td>\n",
       "    </tr>\n",
       "    <tr>\n",
       "      <th>1</th>\n",
       "      <td>215000</td>\n",
       "      <td>0.63</td>\n",
       "      <td>No</td>\n",
       "      <td>21</td>\n",
       "      <td>Yes</td>\n",
       "      <td>Gas</td>\n",
       "      <td>3</td>\n",
       "      <td>1792</td>\n",
       "      <td>64</td>\n",
       "      <td>1</td>\n",
       "      <td>1</td>\n",
       "      <td>3</td>\n",
       "      <td>0</td>\n",
       "    </tr>\n",
       "    <tr>\n",
       "      <th>2</th>\n",
       "      <td>125000</td>\n",
       "      <td>0.35</td>\n",
       "      <td>No</td>\n",
       "      <td>22</td>\n",
       "      <td>No</td>\n",
       "      <td>Gas</td>\n",
       "      <td>3</td>\n",
       "      <td>1040</td>\n",
       "      <td>63</td>\n",
       "      <td>1</td>\n",
       "      <td>0</td>\n",
       "      <td>3</td>\n",
       "      <td>0</td>\n",
       "    </tr>\n",
       "    <tr>\n",
       "      <th>3</th>\n",
       "      <td>158900</td>\n",
       "      <td>0.21</td>\n",
       "      <td>No</td>\n",
       "      <td>3</td>\n",
       "      <td>No</td>\n",
       "      <td>Oil</td>\n",
       "      <td>3</td>\n",
       "      <td>1292</td>\n",
       "      <td>52</td>\n",
       "      <td>2</td>\n",
       "      <td>0</td>\n",
       "      <td>3</td>\n",
       "      <td>1</td>\n",
       "    </tr>\n",
       "    <tr>\n",
       "      <th>4</th>\n",
       "      <td>82000</td>\n",
       "      <td>0.17</td>\n",
       "      <td>No</td>\n",
       "      <td>21</td>\n",
       "      <td>No</td>\n",
       "      <td>Oil</td>\n",
       "      <td>2</td>\n",
       "      <td>1412</td>\n",
       "      <td>57</td>\n",
       "      <td>2</td>\n",
       "      <td>1</td>\n",
       "      <td>2</td>\n",
       "      <td>0</td>\n",
       "    </tr>\n",
       "  </tbody>\n",
       "</table>\n",
       "</div>"
      ],
      "text/plain": [
       "   Sale Price  Lot Size Waterfront  Age Central Air Fuel Type  Condition  \\\n",
       "0      320000      0.61         No    6         Yes       Oil          3   \n",
       "1      215000      0.63         No   21         Yes       Gas          3   \n",
       "2      125000      0.35         No   22          No       Gas          3   \n",
       "3      158900      0.21         No    3          No       Oil          3   \n",
       "4       82000      0.17         No   21          No       Oil          2   \n",
       "\n",
       "   Living Area  Pct College  Full Baths  Half Baths  Bedrooms  Fireplaces  \n",
       "0         2492           64           2           1         4           1  \n",
       "1         1792           64           1           1         3           0  \n",
       "2         1040           63           1           0         3           0  \n",
       "3         1292           52           2           0         3           1  \n",
       "4         1412           57           2           1         2           0  "
      ]
     },
     "execution_count": 2,
     "metadata": {},
     "output_type": "execute_result"
    }
   ],
   "source": [
    "print(res.shape)\n",
    "res.head()"
   ]
  },
  {
   "cell_type": "code",
   "execution_count": 3,
   "metadata": {},
   "outputs": [
    {
     "name": "stdout",
     "output_type": "stream",
     "text": [
      "(723, 13)\n"
     ]
    },
    {
     "data": {
      "text/html": [
       "<div>\n",
       "<style scoped>\n",
       "    .dataframe tbody tr th:only-of-type {\n",
       "        vertical-align: middle;\n",
       "    }\n",
       "\n",
       "    .dataframe tbody tr th {\n",
       "        vertical-align: top;\n",
       "    }\n",
       "\n",
       "    .dataframe thead th {\n",
       "        text-align: right;\n",
       "    }\n",
       "</style>\n",
       "<table border=\"1\" class=\"dataframe\">\n",
       "  <thead>\n",
       "    <tr style=\"text-align: right;\">\n",
       "      <th></th>\n",
       "      <th>Sale Price</th>\n",
       "      <th>Lot Size</th>\n",
       "      <th>Waterfront</th>\n",
       "      <th>Age</th>\n",
       "      <th>Central Air</th>\n",
       "      <th>Fuel Type</th>\n",
       "      <th>Condition</th>\n",
       "      <th>Living Area</th>\n",
       "      <th>Pct College</th>\n",
       "      <th>Full Baths</th>\n",
       "      <th>Half Baths</th>\n",
       "      <th>Bedrooms</th>\n",
       "      <th>Fireplaces</th>\n",
       "    </tr>\n",
       "  </thead>\n",
       "  <tbody>\n",
       "    <tr>\n",
       "      <th>0</th>\n",
       "      <td>320000</td>\n",
       "      <td>0.61</td>\n",
       "      <td>No</td>\n",
       "      <td>6</td>\n",
       "      <td>Yes</td>\n",
       "      <td>Oil</td>\n",
       "      <td>3</td>\n",
       "      <td>2492</td>\n",
       "      <td>64</td>\n",
       "      <td>2</td>\n",
       "      <td>1</td>\n",
       "      <td>4</td>\n",
       "      <td>1</td>\n",
       "    </tr>\n",
       "    <tr>\n",
       "      <th>3</th>\n",
       "      <td>158900</td>\n",
       "      <td>0.21</td>\n",
       "      <td>No</td>\n",
       "      <td>3</td>\n",
       "      <td>No</td>\n",
       "      <td>Oil</td>\n",
       "      <td>3</td>\n",
       "      <td>1292</td>\n",
       "      <td>52</td>\n",
       "      <td>2</td>\n",
       "      <td>0</td>\n",
       "      <td>3</td>\n",
       "      <td>1</td>\n",
       "    </tr>\n",
       "    <tr>\n",
       "      <th>5</th>\n",
       "      <td>219200</td>\n",
       "      <td>1.08</td>\n",
       "      <td>No</td>\n",
       "      <td>30</td>\n",
       "      <td>No</td>\n",
       "      <td>Oil</td>\n",
       "      <td>3</td>\n",
       "      <td>1735</td>\n",
       "      <td>61</td>\n",
       "      <td>1</td>\n",
       "      <td>1</td>\n",
       "      <td>4</td>\n",
       "      <td>1</td>\n",
       "    </tr>\n",
       "    <tr>\n",
       "      <th>8</th>\n",
       "      <td>179000</td>\n",
       "      <td>0.60</td>\n",
       "      <td>No</td>\n",
       "      <td>29</td>\n",
       "      <td>No</td>\n",
       "      <td>Oil</td>\n",
       "      <td>3</td>\n",
       "      <td>2128</td>\n",
       "      <td>60</td>\n",
       "      <td>1</td>\n",
       "      <td>1</td>\n",
       "      <td>3</td>\n",
       "      <td>1</td>\n",
       "    </tr>\n",
       "    <tr>\n",
       "      <th>9</th>\n",
       "      <td>264900</td>\n",
       "      <td>0.55</td>\n",
       "      <td>No</td>\n",
       "      <td>16</td>\n",
       "      <td>Yes</td>\n",
       "      <td>Oil</td>\n",
       "      <td>3</td>\n",
       "      <td>1897</td>\n",
       "      <td>63</td>\n",
       "      <td>2</td>\n",
       "      <td>1</td>\n",
       "      <td>4</td>\n",
       "      <td>1</td>\n",
       "    </tr>\n",
       "  </tbody>\n",
       "</table>\n",
       "</div>"
      ],
      "text/plain": [
       "   Sale Price  Lot Size Waterfront  Age Central Air Fuel Type  Condition  \\\n",
       "0      320000      0.61         No    6         Yes       Oil          3   \n",
       "3      158900      0.21         No    3          No       Oil          3   \n",
       "5      219200      1.08         No   30          No       Oil          3   \n",
       "8      179000      0.60         No   29          No       Oil          3   \n",
       "9      264900      0.55         No   16         Yes       Oil          3   \n",
       "\n",
       "   Living Area  Pct College  Full Baths  Half Baths  Bedrooms  Fireplaces  \n",
       "0         2492           64           2           1         4           1  \n",
       "3         1292           52           2           0         3           1  \n",
       "5         1735           61           1           1         4           1  \n",
       "8         2128           60           1           1         3           1  \n",
       "9         1897           63           2           1         4           1  "
      ]
     },
     "execution_count": 3,
     "metadata": {},
     "output_type": "execute_result"
    }
   ],
   "source": [
    "fp = res.loc[res['Fireplaces']>0]\n",
    "print(fp.shape)\n",
    "fp.head()"
   ]
  },
  {
   "cell_type": "code",
   "execution_count": 4,
   "metadata": {},
   "outputs": [
    {
     "name": "stdout",
     "output_type": "stream",
     "text": [
      "(477, 13)\n"
     ]
    },
    {
     "data": {
      "text/html": [
       "<div>\n",
       "<style scoped>\n",
       "    .dataframe tbody tr th:only-of-type {\n",
       "        vertical-align: middle;\n",
       "    }\n",
       "\n",
       "    .dataframe tbody tr th {\n",
       "        vertical-align: top;\n",
       "    }\n",
       "\n",
       "    .dataframe thead th {\n",
       "        text-align: right;\n",
       "    }\n",
       "</style>\n",
       "<table border=\"1\" class=\"dataframe\">\n",
       "  <thead>\n",
       "    <tr style=\"text-align: right;\">\n",
       "      <th></th>\n",
       "      <th>Sale Price</th>\n",
       "      <th>Lot Size</th>\n",
       "      <th>Waterfront</th>\n",
       "      <th>Age</th>\n",
       "      <th>Central Air</th>\n",
       "      <th>Fuel Type</th>\n",
       "      <th>Condition</th>\n",
       "      <th>Living Area</th>\n",
       "      <th>Pct College</th>\n",
       "      <th>Full Baths</th>\n",
       "      <th>Half Baths</th>\n",
       "      <th>Bedrooms</th>\n",
       "      <th>Fireplaces</th>\n",
       "    </tr>\n",
       "  </thead>\n",
       "  <tbody>\n",
       "    <tr>\n",
       "      <th>1</th>\n",
       "      <td>215000</td>\n",
       "      <td>0.63</td>\n",
       "      <td>No</td>\n",
       "      <td>21</td>\n",
       "      <td>Yes</td>\n",
       "      <td>Gas</td>\n",
       "      <td>3</td>\n",
       "      <td>1792</td>\n",
       "      <td>64</td>\n",
       "      <td>1</td>\n",
       "      <td>1</td>\n",
       "      <td>3</td>\n",
       "      <td>0</td>\n",
       "    </tr>\n",
       "    <tr>\n",
       "      <th>2</th>\n",
       "      <td>125000</td>\n",
       "      <td>0.35</td>\n",
       "      <td>No</td>\n",
       "      <td>22</td>\n",
       "      <td>No</td>\n",
       "      <td>Gas</td>\n",
       "      <td>3</td>\n",
       "      <td>1040</td>\n",
       "      <td>63</td>\n",
       "      <td>1</td>\n",
       "      <td>0</td>\n",
       "      <td>3</td>\n",
       "      <td>0</td>\n",
       "    </tr>\n",
       "    <tr>\n",
       "      <th>4</th>\n",
       "      <td>82000</td>\n",
       "      <td>0.17</td>\n",
       "      <td>No</td>\n",
       "      <td>21</td>\n",
       "      <td>No</td>\n",
       "      <td>Oil</td>\n",
       "      <td>2</td>\n",
       "      <td>1412</td>\n",
       "      <td>57</td>\n",
       "      <td>2</td>\n",
       "      <td>1</td>\n",
       "      <td>2</td>\n",
       "      <td>0</td>\n",
       "    </tr>\n",
       "    <tr>\n",
       "      <th>6</th>\n",
       "      <td>125000</td>\n",
       "      <td>0.16</td>\n",
       "      <td>No</td>\n",
       "      <td>133</td>\n",
       "      <td>No</td>\n",
       "      <td>Oil</td>\n",
       "      <td>2</td>\n",
       "      <td>852</td>\n",
       "      <td>57</td>\n",
       "      <td>1</td>\n",
       "      <td>1</td>\n",
       "      <td>2</td>\n",
       "      <td>0</td>\n",
       "    </tr>\n",
       "    <tr>\n",
       "      <th>7</th>\n",
       "      <td>110000</td>\n",
       "      <td>0.15</td>\n",
       "      <td>No</td>\n",
       "      <td>18</td>\n",
       "      <td>No</td>\n",
       "      <td>Gas</td>\n",
       "      <td>3</td>\n",
       "      <td>988</td>\n",
       "      <td>52</td>\n",
       "      <td>1</td>\n",
       "      <td>1</td>\n",
       "      <td>2</td>\n",
       "      <td>0</td>\n",
       "    </tr>\n",
       "  </tbody>\n",
       "</table>\n",
       "</div>"
      ],
      "text/plain": [
       "   Sale Price  Lot Size Waterfront  Age Central Air Fuel Type  Condition  \\\n",
       "1      215000      0.63         No   21         Yes       Gas          3   \n",
       "2      125000      0.35         No   22          No       Gas          3   \n",
       "4       82000      0.17         No   21          No       Oil          2   \n",
       "6      125000      0.16         No  133          No       Oil          2   \n",
       "7      110000      0.15         No   18          No       Gas          3   \n",
       "\n",
       "   Living Area  Pct College  Full Baths  Half Baths  Bedrooms  Fireplaces  \n",
       "1         1792           64           1           1         3           0  \n",
       "2         1040           63           1           0         3           0  \n",
       "4         1412           57           2           1         2           0  \n",
       "6          852           57           1           1         2           0  \n",
       "7          988           52           1           1         2           0  "
      ]
     },
     "execution_count": 4,
     "metadata": {},
     "output_type": "execute_result"
    }
   ],
   "source": [
    "nfp = res.loc[res['Fireplaces']==0]\n",
    "print(nfp.shape)\n",
    "nfp.head()"
   ]
  },
  {
   "cell_type": "code",
   "execution_count": 5,
   "metadata": {},
   "outputs": [
    {
     "data": {
      "text/plain": [
       "0    320000\n",
       "3    158900\n",
       "5    219200\n",
       "8    179000\n",
       "9    264900\n",
       "Name: Sale Price, dtype: int64"
      ]
     },
     "execution_count": 5,
     "metadata": {},
     "output_type": "execute_result"
    }
   ],
   "source": [
    "fpsale = fp['Sale Price']\n",
    "fpsale.head()"
   ]
  },
  {
   "cell_type": "code",
   "execution_count": 6,
   "metadata": {},
   "outputs": [
    {
     "data": {
      "text/plain": [
       "1    215000\n",
       "2    125000\n",
       "4     82000\n",
       "6    125000\n",
       "7    110000\n",
       "Name: Sale Price, dtype: int64"
      ]
     },
     "execution_count": 6,
     "metadata": {},
     "output_type": "execute_result"
    }
   ],
   "source": [
    "nfpsale = nfp['Sale Price']\n",
    "nfpsale.head()"
   ]
  },
  {
   "cell_type": "code",
   "execution_count": 7,
   "metadata": {},
   "outputs": [
    {
     "data": {
      "text/plain": [
       "count    7.230000e+02\n",
       "mean     2.627923e+05\n",
       "std      1.268049e+05\n",
       "min      6.000000e+04\n",
       "25%      1.800000e+05\n",
       "50%      2.375000e+05\n",
       "75%      3.192245e+05\n",
       "max      1.155000e+06\n",
       "Name: Sale Price, dtype: float64"
      ]
     },
     "execution_count": 7,
     "metadata": {},
     "output_type": "execute_result"
    }
   ],
   "source": [
    "fpsale.describe()"
   ]
  },
  {
   "cell_type": "code",
   "execution_count": 8,
   "metadata": {},
   "outputs": [
    {
     "data": {
      "text/plain": [
       "count    723.000000\n",
       "mean      12.385007\n",
       "std        0.426081\n",
       "min       11.002100\n",
       "25%       12.100712\n",
       "50%       12.377923\n",
       "75%       12.673650\n",
       "max       13.959611\n",
       "Name: Sale Price, dtype: float64"
      ]
     },
     "execution_count": 8,
     "metadata": {},
     "output_type": "execute_result"
    }
   ],
   "source": [
    "np.log(fpsale).describe()"
   ]
  },
  {
   "cell_type": "code",
   "execution_count": 9,
   "metadata": {},
   "outputs": [
    {
     "data": {
      "text/plain": [
       "count       477.000000\n",
       "mean     169482.926625\n",
       "std       71459.048431\n",
       "min       27500.000000\n",
       "25%      121500.000000\n",
       "50%      157000.000000\n",
       "75%      202900.000000\n",
       "max      450000.000000\n",
       "Name: Sale Price, dtype: float64"
      ]
     },
     "execution_count": 9,
     "metadata": {},
     "output_type": "execute_result"
    }
   ],
   "source": [
    "nfpsale.describe()"
   ]
  },
  {
   "cell_type": "code",
   "execution_count": 10,
   "metadata": {},
   "outputs": [
    {
     "data": {
      "text/plain": [
       "count    477.000000\n",
       "mean      11.954157\n",
       "std        0.425624\n",
       "min       10.221941\n",
       "25%       11.707670\n",
       "50%       11.964001\n",
       "75%       12.220469\n",
       "max       13.017003\n",
       "Name: Sale Price, dtype: float64"
      ]
     },
     "execution_count": 10,
     "metadata": {},
     "output_type": "execute_result"
    }
   ],
   "source": [
    "np.log(nfpsale).describe()"
   ]
  },
  {
   "cell_type": "markdown",
   "metadata": {},
   "source": [
    "Creating a Q-Q plot to determine whether a log-transformation of the data is more appropriate to use instead of the raw data"
   ]
  },
  {
   "cell_type": "code",
   "execution_count": 11,
   "metadata": {
    "scrolled": true
   },
   "outputs": [
    {
     "data": {
      "image/png": "[encoded data removed]",
      "text/plain": [
       "<Figure size 432x288 with 1 Axes>"
      ]
     },
     "metadata": {
      "needs_background": "light"
     },
     "output_type": "display_data"
    }
   ],
   "source": [
    "stats.probplot((fpsale),dist='norm',plot=plt)\n",
    "plt.title('Q-Q Plot for Sale price, Fireplaces')\n",
    "plt.show()"
   ]
  },
  {
   "cell_type": "code",
   "execution_count": 12,
   "metadata": {},
   "outputs": [
    {
     "data": {
      "image/png": "[encoded data removed]",
      "text/plain": [
       "<Figure size 432x288 with 1 Axes>"
      ]
     },
     "metadata": {
      "needs_background": "light"
     },
     "output_type": "display_data"
    }
   ],
   "source": [
    "stats.probplot((nfpsale),dist='norm',plot=plt)\n",
    "plt.title('Q-Q Plot for Sale price, No Fireplaces')\n",
    "plt.show()"
   ]
  },
  {
   "cell_type": "code",
   "execution_count": 13,
   "metadata": {},
   "outputs": [
    {
     "data": {
      "image/png": "[encoded data removed]",
      "text/plain": [
       "<Figure size 432x288 with 1 Axes>"
      ]
     },
     "metadata": {
      "needs_background": "light"
     },
     "output_type": "display_data"
    }
   ],
   "source": [
    "stats.probplot(np.log(fpsale),dist='norm',plot=plt)\n",
    "plt.title('Q-Q Plot for log(Sale price), Fireplaces')\n",
    "plt.show()"
   ]
  },
  {
   "cell_type": "code",
   "execution_count": 14,
   "metadata": {},
   "outputs": [
    {
     "data": {
      "image/png": "[encoded data removed]",
      "text/plain": [
       "<Figure size 432x288 with 1 Axes>"
      ]
     },
     "metadata": {
      "needs_background": "light"
     },
     "output_type": "display_data"
    }
   ],
   "source": [
    "stats.probplot(np.log(nfpsale),dist='norm',plot=plt)\n",
    "plt.title('Q-Q Plot for log(Sale price), No Fireplaces')\n",
    "plt.show()"
   ]
  },
  {
   "cell_type": "markdown",
   "metadata": {},
   "source": [
    "Compared with the raw data, the log-transformed data holds an approximately normal distribution. "
   ]
  },
  {
   "cell_type": "code",
   "execution_count": 15,
   "metadata": {},
   "outputs": [
    {
     "data": {
      "image/png": "[encoded data removed]",
      "text/plain": [
       "<Figure size 432x288 with 1 Axes>"
      ]
     },
     "metadata": {
      "needs_background": "light"
     },
     "output_type": "display_data"
    }
   ],
   "source": [
    "plt.hist(fpsale,rwidth=0.8)\n",
    "plt.xlabel('Sale Price',fontsize=14)\n",
    "plt.ylabel('Frequency',fontsize=14)\n",
    "plt.title('Sale price for Houses with Fireplaces');"
   ]
  },
  {
   "cell_type": "markdown",
   "metadata": {},
   "source": [
    "The lack of symmetry is especially evident in this sample"
   ]
  },
  {
   "cell_type": "code",
   "execution_count": 16,
   "metadata": {},
   "outputs": [
    {
     "data": {
      "image/png": "[encoded data removed]",
      "text/plain": [
       "<Figure size 432x288 with 1 Axes>"
      ]
     },
     "metadata": {
      "needs_background": "light"
     },
     "output_type": "display_data"
    }
   ],
   "source": [
    "plt.hist(nfpsale,rwidth=0.8)\n",
    "plt.xlabel('Sale Price',fontsize=14)\n",
    "plt.ylabel('Frequency',fontsize=14)\n",
    "plt.title('Sale price for Houses without Fireplaces');"
   ]
  },
  {
   "cell_type": "code",
   "execution_count": 17,
   "metadata": {},
   "outputs": [
    {
     "data": {
      "image/png": "[encoded data removed]",
      "text/plain": [
       "<Figure size 432x288 with 1 Axes>"
      ]
     },
     "metadata": {
      "needs_background": "light"
     },
     "output_type": "display_data"
    }
   ],
   "source": [
    "plt.hist(np.log(fpsale), rwidth=0.8)\n",
    "plt.xlabel('Sale Price',fontsize=14)\n",
    "plt.ylabel('Frequency',fontsize=14)\n",
    "plt.title('LOG Sale price for Houses with Fireplaces');"
   ]
  },
  {
   "cell_type": "code",
   "execution_count": 18,
   "metadata": {},
   "outputs": [
    {
     "data": {
      "image/png": "[encoded data removed]",
      "text/plain": [
       "<Figure size 432x288 with 1 Axes>"
      ]
     },
     "metadata": {
      "needs_background": "light"
     },
     "output_type": "display_data"
    }
   ],
   "source": [
    "plt.hist(np.log(nfpsale), rwidth=0.8)\n",
    "plt.xlabel('Sale Price',fontsize=14)\n",
    "plt.ylabel('Frequency',fontsize=14)\n",
    "plt.title('LOG Sale price for Houses without Fireplaces');"
   ]
  },
  {
   "cell_type": "code",
   "execution_count": 19,
   "metadata": {},
   "outputs": [],
   "source": [
    "def welch_ttest(x, y): \n",
    "    ttest, pvalue = stats.ttest_ind(x,y,equal_var = False)\n",
    "    dof = (x.var()/x.size+y.var()/y.size)**2/ ((x.var()/x.size)**2/(x.size-1)+(y.var()/y.size)**2/(y.size-1))  \n",
    "    print(' The Degrees of Freedom is',dof,'\\n',\n",
    "          'The t-test is',ttest,'\\n',\n",
    "          'The pvalue is',pvalue)"
   ]
  },
  {
   "cell_type": "code",
   "execution_count": 20,
   "metadata": {},
   "outputs": [
    {
     "name": "stdout",
     "output_type": "stream",
     "text": [
      " T-test with log transformation\n",
      " The Degrees of Freedom is 1019.6496690089525 \n",
      " The t-test is 17.153460301461184 \n",
      " The pvalue is 3.84700919200458e-58\n"
     ]
    }
   ],
   "source": [
    "print(' T-test with log transformation')\n",
    "welch_ttest(np.log(fpsale),np.log(nfpsale))"
   ]
  },
  {
   "cell_type": "code",
   "execution_count": 21,
   "metadata": {},
   "outputs": [
    {
     "name": "stdout",
     "output_type": "stream",
     "text": [
      " T-test without log transformation\n",
      " The Degrees of Freedom is 1172.3456909906579 \n",
      " The t-test is 16.256578767501356 \n",
      " The pvalue is 9.593813331944524e-54\n"
     ]
    }
   ],
   "source": [
    "print(' T-test without log transformation')\n",
    "welch_ttest((fpsale),(nfpsale))"
   ]
  },
  {
   "cell_type": "code",
   "execution_count": 22,
   "metadata": {},
   "outputs": [],
   "source": [
    "def z_test(x,y):\n",
    "    zvalue = (np.mean(x)-np.mean(y))/np.sqrt(x.var()/x.size+y.var()/y.size)\n",
    "    print('z-value is',zvalue)"
   ]
  },
  {
   "cell_type": "code",
   "execution_count": 23,
   "metadata": {},
   "outputs": [
    {
     "name": "stdout",
     "output_type": "stream",
     "text": [
      "Z-test with log transformation \n",
      "z-value is 17.1534603014604\n"
     ]
    }
   ],
   "source": [
    "print('Z-test with log transformation ')\n",
    "z_test(np.log(fpsale),np.log(nfpsale))"
   ]
  },
  {
   "cell_type": "code",
   "execution_count": 24,
   "metadata": {},
   "outputs": [
    {
     "name": "stdout",
     "output_type": "stream",
     "text": [
      "Z-test without log transformation\n",
      "z-value is 16.256578767501363\n"
     ]
    }
   ],
   "source": [
    "print('Z-test without log transformation')\n",
    "z_test((fpsale),(nfpsale))"
   ]
  },
  {
   "cell_type": "markdown",
   "metadata": {},
   "source": [
    "Z-statistic is 16.257 by using raw data. Although it results in rejecting the null hypothesis,it is worth noting that the value of this test statistic is less than the prior test statistic obtained from the log-transformed data. "
   ]
  },
  {
   "cell_type": "markdown",
   "metadata": {},
   "source": [
    "Using F-test to compare the variance to determine the type of t-test (equal or unequal variance)"
   ]
  },
  {
   "cell_type": "code",
   "execution_count": 25,
   "metadata": {},
   "outputs": [],
   "source": [
    "def f_test(x,y):\n",
    "    F=x.var()/y.var() #ratio of variances \n",
    "    df1=x.size-1\n",
    "    df2=y.size-1\n",
    "    p_value = (1- stats.f.cdf(F, df1, df2))*2\n",
    "    print(' The ratio of variances is ', F,'\\n',\n",
    "         'The p-value is ', p_value)\n"
   ]
  },
  {
   "cell_type": "code",
   "execution_count": 26,
   "metadata": {},
   "outputs": [
    {
     "name": "stdout",
     "output_type": "stream",
     "text": [
      " The ratio of variances is  1.0021482816705944 \n",
      " The p-value is  0.9840658894202041\n"
     ]
    }
   ],
   "source": [
    "f_test(np.log(fpsale),np.log(nfpsale))"
   ]
  },
  {
   "cell_type": "markdown",
   "metadata": {},
   "source": [
    "Since the p-value > 0.05, we proceed with a t-test assuming equal variances between groups"
   ]
  },
  {
   "cell_type": "code",
   "execution_count": 27,
   "metadata": {},
   "outputs": [],
   "source": [
    "ttest_true, pvalue_true = stats.ttest_ind(np.log(fpsale),np.log(nfpsale),equal_var = True)"
   ]
  },
  {
   "cell_type": "code",
   "execution_count": 28,
   "metadata": {},
   "outputs": [
    {
     "name": "stdout",
     "output_type": "stream",
     "text": [
      " The t-test is 17.149684448478748 when vars are equal\n",
      " The pvalue is 4.003516355622301e-59 when vars are equal \n"
     ]
    }
   ],
   "source": [
    "    print(' The t-test is',ttest_true,'when vars are equal\\n',\n",
    "          'The pvalue is',pvalue_true,'when vars are equal ')"
   ]
  },
  {
   "cell_type": "code",
   "execution_count": 42,
   "metadata": {},
   "outputs": [
    {
     "name": "stdout",
     "output_type": "stream",
     "text": [
      "The confidence interval is (0.3815598970083889, 0.4801394161372927)\n"
     ]
    }
   ],
   "source": [
    "def confidence_interval(x,y):\n",
    "    CI = sms.CompareMeans(sms.DescrStatsW(x), sms.DescrStatsW(y))\n",
    "    print('The confidence interval is',cm.tconfint_diff(usevar='pooled'))\n",
    "confidence_interval(np.log(fpsale),np.log(nfpsale))"
   ]
  },
  {
   "cell_type": "markdown",
   "metadata": {},
   "source": [
    "The resulting test statistic in comparing the two means was approximately 17.15, associated with a p-value close to zero. \n",
    "\n",
    "Since p-vale < 0.05, we reject H0, and conclude that there is sufficient evidence that sale prices are greater for homes in Saratoga with fireplaces than for homes without them. \n",
    "\n",
    "The 95% confidence interval for the difference in the logs of the means, (0.3816, 0.4801), reflects this decision.\n"
   ]
  }
 ],
 "metadata": {
  "kernelspec": {
   "display_name": "Python 3",
   "language": "python",
   "name": "python3"
  },
  "language_info": {
   "codemirror_mode": {
    "name": "ipython",
    "version": 3
   },
   "file_extension": ".py",
   "mimetype": "text/x-python",
   "name": "python",
   "nbconvert_exporter": "python",
   "pygments_lexer": "ipython3",
   "version": "3.7.1"
  }
 },
 "nbformat": 4,
 "nbformat_minor": 2
}
